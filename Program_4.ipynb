{
  "nbformat": 4,
  "nbformat_minor": 0,
  "metadata": {
    "colab": {
      "name": "Program 4.ipynb",
      "provenance": [],
      "collapsed_sections": []
    },
    "kernelspec": {
      "name": "python3",
      "display_name": "Python 3"
    },
    "language_info": {
      "name": "python"
    }
  },
  "cells": [
    {
      "cell_type": "markdown",
      "source": [
        "**Write a program to create, concatenate and print a string and accessing sub-string from a given string**"
      ],
      "metadata": {
        "id": "pkqqdljBlua_"
      }
    },
    {
      "cell_type": "code",
      "source": [
        "s1=input(\"Enter first String : \");\n",
        "s2=input(\"Enter second String : \");\n",
        "print(\"First string is : \",s1);\n",
        "print(\"Second string is : \",s2);\n",
        "print(\"concatenations of two strings :\",s1*2);\n",
        "print(\"Hello\"+\" \"+\"RCPIT\")\n",
        "S3=s1[0]*2\n",
        "print(\"Substring of given string :\",S3);\n",
        "s4=s1[-4:-1]\n",
        "print(s4)\n",
        "len(s1)"
      ],
      "metadata": {
        "colab": {
          "base_uri": "https://localhost:8080/"
        },
        "id": "5U5T1Mz-lykz",
        "outputId": "1267b7e5-6af5-483c-9713-c9e4ff7db408"
      },
      "execution_count": 1,
      "outputs": [
        {
          "output_type": "stream",
          "name": "stdout",
          "text": [
            "Enter first String : Hello\n",
            "Enter second String : RCPIT\n",
            "First string is :  Hello\n",
            "Second string is :  RCPIT\n",
            "concatenations of two strings : HelloHello\n",
            "Hello RCPIT\n",
            "Substring of given string : HH\n",
            "ell\n"
          ]
        },
        {
          "output_type": "execute_result",
          "data": {
            "text/plain": [
              "5"
            ]
          },
          "metadata": {},
          "execution_count": 1
        }
      ]
    }
  ]
}